{
 "cells": [
  {
   "cell_type": "code",
   "execution_count": 3,
   "id": "9b44792b-ee08-4056-b026-1aece222c053",
   "metadata": {},
   "outputs": [],
   "source": [
    "import torch\n",
    "import numpy as np"
   ]
  },
  {
   "cell_type": "code",
   "execution_count": 17,
   "id": "06948507-bc53-455c-8114-a598e330f558",
   "metadata": {},
   "outputs": [
    {
     "name": "stdout",
     "output_type": "stream",
     "text": [
      "tensor([[11., 16.],\n",
      "        [ 1.,  2.]], dtype=torch.float64, grad_fn=<MmBackward0>)\n",
      "tensor([[3.],\n",
      "        [2.]], dtype=torch.float64, requires_grad=True)\n",
      "tensor([[14., 19.],\n",
      "        [ 3.,  4.]], dtype=torch.float64, grad_fn=<AddBackward0>)\n",
      "tensor(40., dtype=torch.float64, grad_fn=<SumBackward0>)\n"
     ]
    }
   ],
   "source": [
    "A = torch.from_numpy(np.array([[2., 3.], [1., 0.]]))\n",
    "A.requires_grad = True\n",
    "\n",
    "B = torch.from_numpy(np.array([[1., 2.], [3., 4.]]))\n",
    "B.requires_grad = True\n",
    "\n",
    "C = torch.matmul(A, B)\n",
    "print(C)\n",
    "\n",
    "d = torch.from_numpy(np.array([[3.], [2.]]))\n",
    "d.requires_grad = True\n",
    "\n",
    "print(d)\n",
    "\n",
    "# Broadcasting de d\n",
    "E = C + d\n",
    "\n",
    "print(E)\n",
    "\n",
    "J = torch.sum(E)\n",
    "\n",
    "print(J)"
   ]
  },
  {
   "cell_type": "code",
   "execution_count": 18,
   "id": "9c802b88-31f7-401f-aae2-bcfbdfa15b62",
   "metadata": {},
   "outputs": [],
   "source": [
    "J.backward()"
   ]
  },
  {
   "cell_type": "code",
   "execution_count": 19,
   "id": "3fff0794-7559-40d5-9878-fd908fe9f872",
   "metadata": {},
   "outputs": [
    {
     "data": {
      "text/plain": [
       "tensor([[2.],\n",
       "        [2.]], dtype=torch.float64)"
      ]
     },
     "execution_count": 19,
     "metadata": {},
     "output_type": "execute_result"
    }
   ],
   "source": [
    "d.grad"
   ]
  },
  {
   "cell_type": "code",
   "execution_count": 20,
   "id": "d70b3db9-def8-4b98-9762-17218bb5babc",
   "metadata": {},
   "outputs": [
    {
     "data": {
      "text/plain": [
       "tensor([[3., 7.],\n",
       "        [3., 7.]], dtype=torch.float64)"
      ]
     },
     "execution_count": 20,
     "metadata": {},
     "output_type": "execute_result"
    }
   ],
   "source": [
    "A.grad"
   ]
  },
  {
   "cell_type": "code",
   "execution_count": 21,
   "id": "d45c08b1-117c-4524-8b05-9aebb47271d4",
   "metadata": {},
   "outputs": [
    {
     "data": {
      "text/plain": [
       "tensor([[3., 3.],\n",
       "        [3., 3.]], dtype=torch.float64)"
      ]
     },
     "execution_count": 21,
     "metadata": {},
     "output_type": "execute_result"
    }
   ],
   "source": [
    "B.grad"
   ]
  }
 ],
 "metadata": {
  "kernelspec": {
   "display_name": "Python 3 (ipykernel)",
   "language": "python",
   "name": "python3"
  },
  "language_info": {
   "codemirror_mode": {
    "name": "ipython",
    "version": 3
   },
   "file_extension": ".py",
   "mimetype": "text/x-python",
   "name": "python",
   "nbconvert_exporter": "python",
   "pygments_lexer": "ipython3",
   "version": "3.11.0"
  }
 },
 "nbformat": 4,
 "nbformat_minor": 5
}
